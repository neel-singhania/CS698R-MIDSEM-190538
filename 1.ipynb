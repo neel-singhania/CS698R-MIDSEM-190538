{
 "cells": [
  {
   "cell_type": "code",
   "execution_count": 1,
   "id": "3064fced",
   "metadata": {},
   "outputs": [],
   "source": [
    "import sys \n",
    "sys.path.append('../MIDSEMS/M1/M1/env')\n",
    "\n",
    "from random_maze import randomMaze"
   ]
  },
  {
   "cell_type": "code",
   "execution_count": 2,
   "id": "5b05ae22",
   "metadata": {},
   "outputs": [],
   "source": [
    "import gym\n",
    "import numpy as np\n",
    "from numpy import random\n",
    "from numpy.core.fromnumeric import argmax\n",
    "from math import exp,log,sqrt\n",
    "import matplotlib.pyplot as plt "
   ]
  },
  {
   "cell_type": "code",
   "execution_count": 3,
   "id": "afa8d28a",
   "metadata": {},
   "outputs": [],
   "source": [
    "rme = randomMaze()"
   ]
  },
  {
   "cell_type": "markdown",
   "id": "3f4437c1",
   "metadata": {},
   "source": [
    "# Testing the environment"
   ]
  },
  {
   "cell_type": "code",
   "execution_count": 26,
   "id": "1aa9c4dd",
   "metadata": {},
   "outputs": [
    {
     "name": "stdout",
     "output_type": "stream",
     "text": [
      "State: 8 Action: 2 Environment Action: 3 Next State: 8 Reward: -0.04\n",
      "State: 8 Action: 1 Environment Action: 2 Next State: 8 Reward: -0.04\n",
      "State: 8 Action: 3 Environment Action: 3 Next State: 8 Reward: -0.04\n",
      "State: 8 Action: 1 Environment Action: 1 Next State: 9 Reward: -0.04\n",
      "State: 9 Action: 3 Environment Action: 3 Next State: 8 Reward: -0.04\n",
      "State: 8 Action: 3 Environment Action: 3 Next State: 8 Reward: -0.04\n",
      "State: 8 Action: 0 Environment Action: 0 Next State: 4 Reward: -0.04\n",
      "State: 4 Action: 0 Environment Action: 0 Next State: 0 Reward: -0.04\n",
      "State: 0 Action: 2 Environment Action: 2 Next State: 4 Reward: -0.04\n",
      "State: 4 Action: 0 Environment Action: 0 Next State: 0 Reward: -0.04\n",
      "State: 0 Action: 1 Environment Action: 0 Next State: 0 Reward: -0.04\n",
      "State: 0 Action: 1 Environment Action: 1 Next State: 1 Reward: -0.04\n",
      "State: 1 Action: 2 Environment Action: 2 Next State: 1 Reward: -0.04\n",
      "State: 1 Action: 2 Environment Action: 2 Next State: 1 Reward: -0.04\n",
      "State: 1 Action: 2 Environment Action: 2 Next State: 1 Reward: -0.04\n",
      "State: 1 Action: 0 Environment Action: 3 Next State: 0 Reward: -0.04\n",
      "State: 0 Action: 2 Environment Action: 2 Next State: 4 Reward: -0.04\n",
      "State: 4 Action: 0 Environment Action: 0 Next State: 0 Reward: -0.04\n",
      "State: 0 Action: 0 Environment Action: 3 Next State: 0 Reward: -0.04\n",
      "State: 0 Action: 3 Environment Action: 3 Next State: 0 Reward: -0.04\n",
      "State: 0 Action: 3 Environment Action: 2 Next State: 4 Reward: -0.04\n",
      "State: 4 Action: 2 Environment Action: 2 Next State: 8 Reward: -0.04\n",
      "State: 8 Action: 1 Environment Action: 1 Next State: 9 Reward: -0.04\n",
      "State: 9 Action: 3 Environment Action: 3 Next State: 8 Reward: -0.04\n",
      "State: 8 Action: 3 Environment Action: 3 Next State: 8 Reward: -0.04\n",
      "State: 8 Action: 2 Environment Action: 2 Next State: 8 Reward: -0.04\n",
      "State: 8 Action: 2 Environment Action: 2 Next State: 8 Reward: -0.04\n",
      "State: 8 Action: 0 Environment Action: 0 Next State: 4 Reward: -0.04\n",
      "State: 4 Action: 3 Environment Action: 3 Next State: 4 Reward: -0.04\n",
      "State: 4 Action: 3 Environment Action: 3 Next State: 4 Reward: -0.04\n",
      "State: 4 Action: 3 Environment Action: 3 Next State: 4 Reward: -0.04\n",
      "State: 4 Action: 0 Environment Action: 0 Next State: 0 Reward: -0.04\n",
      "State: 0 Action: 3 Environment Action: 3 Next State: 0 Reward: -0.04\n",
      "State: 0 Action: 3 Environment Action: 2 Next State: 4 Reward: -0.04\n",
      "State: 4 Action: 0 Environment Action: 0 Next State: 0 Reward: -0.04\n",
      "State: 0 Action: 0 Environment Action: 0 Next State: 0 Reward: -0.04\n",
      "State: 0 Action: 1 Environment Action: 1 Next State: 1 Reward: -0.04\n",
      "State: 1 Action: 0 Environment Action: 1 Next State: 2 Reward: -0.04\n",
      "State: 2 Action: 2 Environment Action: 2 Next State: 6 Reward: -0.04\n",
      "State: 6 Action: 0 Environment Action: 0 Next State: 2 Reward: -0.04\n",
      "State: 2 Action: 1 Environment Action: 1 Next State: 3 Reward: 1\n"
     ]
    }
   ],
   "source": [
    "seed = 4\n",
    "np.random.seed(seed)\n",
    "ini_state = [2, 0]\n",
    "state = 8\n",
    "cnt = 100\n",
    "while cnt>0 and state != 3 and state != 7:\n",
    "    action = random.randint(0,4)\n",
    "    next_state,reward,st,env_action = rme.step(action,ini_state)\n",
    "    print(\"State:\",state,\"Action:\",action,\"Environment Action:\",env_action,\"Next State:\",next_state,\"Reward:\",reward)\n",
    "    state = next_state\n",
    "    ini_state = st\n",
    "    cnt-=1\n",
    "#     print(ini_state)"
   ]
  },
  {
   "cell_type": "code",
   "execution_count": null,
   "id": "5038e84f",
   "metadata": {},
   "outputs": [],
   "source": []
  },
  {
   "cell_type": "code",
   "execution_count": null,
   "id": "dbcfa0b0",
   "metadata": {},
   "outputs": [],
   "source": []
  },
  {
   "cell_type": "code",
   "execution_count": null,
   "id": "697ae60d",
   "metadata": {},
   "outputs": [],
   "source": []
  },
  {
   "cell_type": "code",
   "execution_count": null,
   "id": "ae388761",
   "metadata": {},
   "outputs": [],
   "source": []
  }
 ],
 "metadata": {
  "kernelspec": {
   "display_name": "Python 3",
   "language": "python",
   "name": "python3"
  },
  "language_info": {
   "codemirror_mode": {
    "name": "ipython",
    "version": 3
   },
   "file_extension": ".py",
   "mimetype": "text/x-python",
   "name": "python",
   "nbconvert_exporter": "python",
   "pygments_lexer": "ipython3",
   "version": "3.8.8"
  }
 },
 "nbformat": 4,
 "nbformat_minor": 5
}
